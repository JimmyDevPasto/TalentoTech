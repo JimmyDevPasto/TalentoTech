{
  "nbformat": 4,
  "nbformat_minor": 0,
  "metadata": {
    "colab": {
      "provenance": []
    },
    "kernelspec": {
      "name": "python3",
      "display_name": "Python 3"
    },
    "language_info": {
      "name": "python"
    }
  },
  "cells": [
    {
      "cell_type": "code",
      "execution_count": null,
      "metadata": {
        "id": "W1HyKYd6jJey"
      },
      "outputs": [],
      "source": [
        "import keras\n",
        "from sklearn.datasets import make_classification\n",
        "from sklearn.model_selection import train_test_split"
      ]
    },
    {
      "cell_type": "code",
      "source": [
        "#generar un conjunto de datos de classficacion sintetico\n",
        "X,Y=make_classification(n_samples=1000,n_features=5,n_classes=2)"
      ],
      "metadata": {
        "id": "Eua6HSODjZ_O"
      },
      "execution_count": null,
      "outputs": []
    },
    {
      "cell_type": "code",
      "source": [
        "#dividir los datos en conjuntos de entrenaimeinto y prueba\n",
        "X_train,X_test,Y_train,Y_test=train_test_split(X,Y,test_size=0.2)"
      ],
      "metadata": {
        "id": "nSknCj7KjhBy"
      },
      "execution_count": null,
      "outputs": []
    },
    {
      "cell_type": "code",
      "source": [
        "# convertir las etiquetas a codificiacion one-hot\n",
        "Y_train_categorical=keras.utils.to_categorical(Y_train)\n",
        "Y_test_categorical=keras.utils.to_categorical(Y_test)"
      ],
      "metadata": {
        "id": "fHAch2WZjkHn"
      },
      "execution_count": null,
      "outputs": []
    },
    {
      "cell_type": "code",
      "source": [
        "#crear una instancia de un modelo secuencial de keras\n",
        "model= keras.models.Sequential()"
      ],
      "metadata": {
        "id": "4tUB_3fsj3Zz"
      },
      "execution_count": null,
      "outputs": []
    },
    {
      "cell_type": "code",
      "source": [
        "# añadir una capa oculta con 10 neuronas y activacion RelU\n",
        "model.add(keras.layers.Dense(10,input_shape=(X_train.shape[1],), activation='relu'))\n",
        "\n",
        "#añadir una capa de salida con 2 neuronas ( unara para cada clase y activacion softmax)\n",
        "model.add(keras.layers.Dense(2,activation='softmax'))"
      ],
      "metadata": {
        "collapsed": true,
        "id": "PiNR-DhakFQH"
      },
      "execution_count": null,
      "outputs": []
    },
    {
      "cell_type": "code",
      "source": [
        "# compilar el modelo\n",
        "model.compile(optimizer='adam',loss='categorical_crossentropy',metrics=['accuracy'])"
      ],
      "metadata": {
        "id": "VPuvaqQJlEog"
      },
      "execution_count": null,
      "outputs": []
    },
    {
      "cell_type": "code",
      "source": [
        "# Entrenar el modelo\n",
        "model.fit(X_train,Y_train_categorical,epochs=10,batch_size=32,validation_data=(X_test,Y_test_categorical))"
      ],
      "metadata": {
        "colab": {
          "base_uri": "https://localhost:8080/"
        },
        "id": "t-fT5IxElJuK",
        "outputId": "e0a5d843-8c09-4b3f-f68a-2b7ece418860"
      },
      "execution_count": null,
      "outputs": [
        {
          "output_type": "stream",
          "name": "stdout",
          "text": [
            "Epoch 1/10\n",
            "25/25 [==============================] - 1s 14ms/step - loss: 0.5410 - accuracy: 0.8313 - val_loss: 0.4855 - val_accuracy: 0.9100\n",
            "Epoch 2/10\n",
            "25/25 [==============================] - 0s 4ms/step - loss: 0.4697 - accuracy: 0.8888 - val_loss: 0.4201 - val_accuracy: 0.9300\n",
            "Epoch 3/10\n",
            "25/25 [==============================] - 0s 4ms/step - loss: 0.4157 - accuracy: 0.9112 - val_loss: 0.3713 - val_accuracy: 0.9450\n",
            "Epoch 4/10\n",
            "25/25 [==============================] - 0s 4ms/step - loss: 0.3737 - accuracy: 0.9175 - val_loss: 0.3336 - val_accuracy: 0.9450\n",
            "Epoch 5/10\n",
            "25/25 [==============================] - 0s 4ms/step - loss: 0.3404 - accuracy: 0.9212 - val_loss: 0.3045 - val_accuracy: 0.9500\n",
            "Epoch 6/10\n",
            "25/25 [==============================] - 0s 4ms/step - loss: 0.3137 - accuracy: 0.9237 - val_loss: 0.2820 - val_accuracy: 0.9450\n",
            "Epoch 7/10\n",
            "25/25 [==============================] - 0s 4ms/step - loss: 0.2922 - accuracy: 0.9275 - val_loss: 0.2640 - val_accuracy: 0.9450\n",
            "Epoch 8/10\n",
            "25/25 [==============================] - 0s 4ms/step - loss: 0.2749 - accuracy: 0.9300 - val_loss: 0.2503 - val_accuracy: 0.9450\n",
            "Epoch 9/10\n",
            "25/25 [==============================] - 0s 4ms/step - loss: 0.2607 - accuracy: 0.9300 - val_loss: 0.2398 - val_accuracy: 0.9450\n",
            "Epoch 10/10\n",
            "25/25 [==============================] - 0s 4ms/step - loss: 0.2491 - accuracy: 0.9312 - val_loss: 0.2320 - val_accuracy: 0.9500\n"
          ]
        },
        {
          "output_type": "execute_result",
          "data": {
            "text/plain": [
              "<keras.src.callbacks.History at 0x7c28f4fea680>"
            ]
          },
          "metadata": {},
          "execution_count": 10
        }
      ]
    },
    {
      "cell_type": "code",
      "source": [
        "#evaluacion del modelo\n",
        "loss,accuracy=model.evaluate(X_test,Y_test_categorical)\n"
      ],
      "metadata": {
        "colab": {
          "base_uri": "https://localhost:8080/"
        },
        "id": "rFdOiDiVL919",
        "outputId": "3293a55f-4708-48ed-f3e1-a6d6f33d72d7"
      },
      "execution_count": null,
      "outputs": [
        {
          "output_type": "stream",
          "name": "stdout",
          "text": [
            "7/7 [==============================] - 0s 3ms/step - loss: 0.2320 - accuracy: 0.9500\n"
          ]
        }
      ]
    },
    {
      "cell_type": "code",
      "source": [
        "print(f' perdida en el conjunto de prueba:{loss}, precision en el conjunto de prueba:{accuracy}')"
      ],
      "metadata": {
        "colab": {
          "base_uri": "https://localhost:8080/"
        },
        "id": "4gdBGbxwMq01",
        "outputId": "d3f09b32-5b02-4448-de2f-12e9c4805b25"
      },
      "execution_count": null,
      "outputs": [
        {
          "output_type": "stream",
          "name": "stdout",
          "text": [
            " perdida en el conjunto de prueba:0.23200486600399017, precision en el conjunto de prueba:0.949999988079071\n"
          ]
        }
      ]
    }
  ]
}